{
  "cells": [
    {
      "cell_type": "markdown",
      "metadata": {
        "colab_type": "text",
        "id": "view-in-github"
      },
      "source": [
        "<a href=\"https://colab.research.google.com/github/nicholasjbeaver/HEA_prediction/blob/main/alloy_mol_fractions.ipynb\" target=\"_parent\"><img src=\"https://colab.research.google.com/assets/colab-badge.svg\" alt=\"Open In Colab\"/></a>"
      ]
    },
    {
      "cell_type": "code",
      "execution_count": null,
      "metadata": {
        "colab": {
          "base_uri": "https://localhost:8080/"
        },
        "id": "1wkpQPcsK5C6",
        "outputId": "7add93d5-a266-4a35-e590-c9bd97aa2e90"
      },
      "outputs": [
        {
          "name": "stdout",
          "output_type": "stream",
          "text": [
            "{'Co': 0.3333333333333333, 'Fe': 0.3333333333333333, 'Ni': 0.3333333333333333}\n",
            "{'Co': 0.3076923076923077, 'Fe': 0.3076923076923077, 'Ni': 0.3076923076923077, 'Si': 0.07692307692307693}\n",
            "{'Al': 0.2, 'Co': 0.2, 'Cr': 0.2, 'Fe': 0.2, 'Ni': 0.2}\n"
          ]
        }
      ],
      "source": [
        "import re\n",
        "\n",
        "'''\n",
        "take in a string representing a high entropy alloy and return a list of the elements as a dictionary\n",
        "that includes the mole fraction of each element\n",
        "\n",
        "ex: \"AlCoCrFeNi\" -> {'Al': 0.2, 'Co': 0.2, 'Cr': 0.2, 'Fe': 0.2, 'Ni': 0.2}\n",
        "\n",
        "formula: AxBCD ->\n",
        "%B, %C, %D = 1/(1+1+1+x)\n",
        "%A = x/(1+1+1+x)\n",
        "\n",
        "formula: AxByCD ->\n",
        "%C, %D = 1/(1+1+x+y)\n",
        "%A = x/(1+1+x+y)\n",
        "%B = y/(1+1+x+y)\n",
        "\n",
        "so in general:\n",
        "\n",
        "formula: AxByCzDw ->\n",
        "%A = x/(x+y+z+w)\n",
        "%B = y/(x+y+z+w)\n",
        "%C = z/(x+y+z+w)\n",
        "%D = w/(x+y+z+w)\n",
        "... etc\n",
        "\n",
        "*should work for any combination of elements, not just 4\n",
        "such that for Element(i)X(i)\n",
        "X(i) = X(i)/(sum(X))\n",
        "\n",
        "KEY FUNCTIONALITY:\n",
        "1. take in a string representing a high entropy alloy\n",
        "2. return a dictionary of the elements and the number next to the input string\n",
        "3. calculate the mole fraction of each element\n",
        "4. return a dictionary of the elements and their mole fractions\n",
        "\n",
        "'''\n",
        "\n",
        "def find_mole_fractions(input_string):\n",
        "    \"\"\"\n",
        "    Split the input string containing element codes and mole fractions into a dictionary.\n",
        "\n",
        "    Args:\n",
        "        input_string (str): The input string containing element codes and numbers.\n",
        "\n",
        "    Returns:\n",
        "        dict: A dictionary with element codes as keys and corresponding fractions as values.\n",
        "    \"\"\"\n",
        "    pattern = r'([A-Z][a-z]?)(\\d+(\\.\\d+)?)?'\n",
        "\n",
        "    matches = re.findall(pattern, input_string)\n",
        "\n",
        "    result_dict = {}\n",
        "\n",
        "    for match in matches:\n",
        "        code = match[0]\n",
        "        if match[1]:\n",
        "            result_dict[code] = float(match[1])\n",
        "        else:\n",
        "            result_dict[code] = 1.0\n",
        "\n",
        "    mol_fractions = {}\n",
        "    total_value = sum(result_dict.values())\n",
        "    for key, value in result_dict.items():\n",
        "        mol_fractions[key] = value / total_value\n",
        "\n",
        "    return mol_fractions\n",
        "\n",
        "\n",
        "\n",
        "elements = ['CoFeNi', 'CoFeNiSi0.25', 'AlCoCrFeNi', 'FeCCr']\n",
        "\n",
        "for element in elements:\n",
        "    print(find_mole_fractions(element))\n",
        "\n",
        "\n",
        "\n"
      ]
    }
  ],
  "metadata": {
    "colab": {
      "authorship_tag": "ABX9TyNIBC8x7+QLjcE2TCK9GWHB",
      "include_colab_link": true,
      "provenance": []
    },
    "kernelspec": {
      "display_name": "Python 3",
      "name": "python3"
    },
    "language_info": {
      "name": "python"
    }
  },
  "nbformat": 4,
  "nbformat_minor": 0
}
